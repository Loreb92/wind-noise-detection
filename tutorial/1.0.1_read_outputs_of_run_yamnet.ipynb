{
 "cells": [
  {
   "cell_type": "code",
   "execution_count": 1,
   "metadata": {},
   "outputs": [
    {
     "name": "stderr",
     "output_type": "stream",
     "text": [
      "2024-08-08 12:41:13.285893: I tensorflow/core/util/port.cc:110] oneDNN custom operations are on. You may see slightly different numerical results due to floating-point round-off errors from different computation orders. To turn them off, set the environment variable `TF_ENABLE_ONEDNN_OPTS=0`.\n",
      "2024-08-08 12:41:13.309435: I tensorflow/core/platform/cpu_feature_guard.cc:182] This TensorFlow binary is optimized to use available CPU instructions in performance-critical operations.\n",
      "To enable the following instructions: SSE4.1 SSE4.2 AVX AVX2 AVX_VNNI FMA, in other operations, rebuild TensorFlow with the appropriate compiler flags.\n"
     ]
    }
   ],
   "source": [
    "import os\n",
    "import json\n",
    "import numpy as np\n",
    "import matplotlib.pyplot as plt\n",
    "import seaborn as sns\n",
    "from scipy import sparse\n",
    "import pandas as pd\n",
    "\n",
    "import sys\n",
    "sys.path += ['../src']\n",
    "\n",
    "from utils_audio import get_frames_from_interval\n",
    "\n",
    "W_LEN_SEC = 0.96\n",
    "HOP_SEC = 0.48"
   ]
  },
  {
   "cell_type": "markdown",
   "metadata": {},
   "source": [
    "This notebook illustrates how to read the outputs of the `run_yamnet.py` script. Please, run the following command to generate the outputs:\n",
    "    \n",
    "```bash\n",
    "python run_yamnet.py --audio-data-fold test_audio_files --output-fold data/yamnet_asis_predictions_test_audio_files --save-embeddings true --save-spectrogram true\n",
    "```\n",
    "which runs the YAMNet as-is model on some test audio files and saves the predictions, embeddings, and spectrograms in the `data/yamnet_asis_predictions_test_audio_files` folder."
   ]
  },
  {
   "cell_type": "code",
   "execution_count": 2,
   "metadata": {},
   "outputs": [
    {
     "data": {
      "text/plain": [
       "['STP01_20230302_183002_cut.wav',\n",
       " 'STP03_20230322_193002_cut.wav',\n",
       " 'STP01_20230315_200002_cut.wav',\n",
       " 'STP01_20230216_193002_cut.wav']"
      ]
     },
     "execution_count": 2,
     "metadata": {},
     "output_type": "execute_result"
    }
   ],
   "source": [
    "# show the content of the audio data folder: four audio files\n",
    "os.listdir('../test_audio_files')"
   ]
  },
  {
   "cell_type": "markdown",
   "metadata": {},
   "source": [
    "### Structure of the outputs\n",
    "\n",
    "The output folder contains the following folders:\n",
    "- `metadata`: contains the metadata of the audio files (e.g., duration, sample rate, etc.)\n",
    "- `scores`: contains the predictions in `.npz` format for each audio file (compressed sparse matrix). It consists of a matrix with shape `(n_samples, n_classes)` where `n_samples` is the number of audio subsegments in an audio file and `n_classes` is the number of classes in YAMNet. The entries of the matrix corresponds to the probability of the class being present in the subsegment. Each subsegment is 0.96 seconds long.\n"
   ]
  },
  {
   "cell_type": "code",
   "execution_count": 3,
   "metadata": {},
   "outputs": [
    {
     "data": {
      "text/plain": [
       "['spectrograms', 'embeddings', 'scores', 'metadata']"
      ]
     },
     "execution_count": 3,
     "metadata": {},
     "output_type": "execute_result"
    }
   ],
   "source": [
    "OUTPUT_DIR = \"../data/yamnet_asis_predictions_test_audio_files\"\n",
    "\n",
    "# list the content of the output directory\n",
    "os.listdir(OUTPUT_DIR)"
   ]
  },
  {
   "cell_type": "code",
   "execution_count": 4,
   "metadata": {},
   "outputs": [
    {
     "name": "stdout",
     "output_type": "stream",
     "text": [
      "Total number of classes:  521\n"
     ]
    },
    {
     "data": {
      "text/plain": [
       "[(190, 'Wind instrument, woodwind instrument'),\n",
       " (201, 'Wind chime'),\n",
       " (277, 'Wind'),\n",
       " (279, 'Wind noise (microphone)'),\n",
       " (305, 'Power windows, electric windows')]"
      ]
     },
     "execution_count": 4,
     "metadata": {},
     "output_type": "execute_result"
    }
   ],
   "source": [
    "# the class names of the YAMNet as-is model are stored in a txt file\n",
    "# the file is saved when the 'run_yamnet' script is executed\n",
    "yamnet_class_names = open(\"../data/class_names.txt\", \"rt\").read().splitlines()\n",
    "\n",
    "print(\"Total number of classes: \", len(yamnet_class_names))\n",
    "\n",
    "# show all the classes related to wind - we consider only 277, 279, and 305 as wind-related classes\n",
    "[(i, name) for i, name in enumerate(yamnet_class_names) if 'wind' in name.lower()]"
   ]
  },
  {
   "cell_type": "code",
   "execution_count": 5,
   "metadata": {},
   "outputs": [],
   "source": [
    "wind_classes_idx = [277, 279, 305]"
   ]
  },
  {
   "cell_type": "markdown",
   "metadata": {},
   "source": [
    "### Read the predictions"
   ]
  },
  {
   "cell_type": "code",
   "execution_count": 6,
   "metadata": {},
   "outputs": [
    {
     "data": {
      "text/plain": [
       "['STP01_20230315_200002_cut.npz',\n",
       " 'STP01_20230302_183002_cut.npz',\n",
       " 'STP01_20230216_193002_cut.npz',\n",
       " 'STP03_20230322_193002_cut.npz']"
      ]
     },
     "execution_count": 6,
     "metadata": {},
     "output_type": "execute_result"
    }
   ],
   "source": [
    "# list the files with the prediction scores: one file per audio recording\n",
    "pred_scores_file = os.listdir(os.path.join(OUTPUT_DIR, 'scores'))\n",
    "pred_scores_file"
   ]
  },
  {
   "cell_type": "code",
   "execution_count": 7,
   "metadata": {},
   "outputs": [
    {
     "name": "stdout",
     "output_type": "stream",
     "text": [
      "Duration of the audio recording (seconds):  120.0\n",
      "Number of rows (subsegments):  249\n",
      "Number of columns (audio sound classes):  521\n"
     ]
    },
    {
     "data": {
      "text/plain": [
       "(249, 521)"
      ]
     },
     "execution_count": 7,
     "metadata": {},
     "output_type": "execute_result"
    }
   ],
   "source": [
    "# let's load the content of the first file\n",
    "meta = json.load(open(os.path.join(OUTPUT_DIR, 'metadata', pred_scores_file[0].replace('.npz', '.json'))))\n",
    "out_scores = sparse.load_npz(os.path.join(OUTPUT_DIR, 'scores', pred_scores_file[0]))\n",
    "\n",
    "print(\"Duration of the audio recording (seconds): \", meta['duration'])\n",
    "print(\"Number of rows (subsegments): \", out_scores.shape[0])\n",
    "print(\"Number of columns (audio sound classes): \", out_scores.shape[1])\n",
    "\n",
    "# the file is a sparse matrix -> convenient for storage because most of the values are zeros\n",
    "# and easy to convert to numpy array\n",
    "out_scores = out_scores.toarray()\n",
    "out_scores.shape"
   ]
  },
  {
   "cell_type": "markdown",
   "metadata": {},
   "source": [
    "Subsegments refer to 0.96-long audio segments. Consecutive subsegments are overlapped by 0.48 seconds. To extract the predictions obtained for a custom audio segment that goes from a start to and end time (in seconds), you can use the `get_frames_from_interval` function. This function returns the rows of the prediction matrix referring to the interval of interest."
   ]
  },
  {
   "cell_type": "code",
   "execution_count": 8,
   "metadata": {},
   "outputs": [
    {
     "data": {
      "text/plain": [
       "[0, 1, 2]"
      ]
     },
     "execution_count": 8,
     "metadata": {},
     "output_type": "execute_result"
    }
   ],
   "source": [
    "# extract the rows corresponding to the first second of the audio recording\n",
    "# these are the first three rows. Indeed, the first three subsegments refers to the following intervals:\n",
    "# 0.0-0.96, 0.48-1.44, 0.96-1.92\n",
    "# All these intervals include the interval of interest.\n",
    "get_frames_from_interval(0, 1, W_LEN_SEC, HOP_SEC)"
   ]
  },
  {
   "cell_type": "code",
   "execution_count": 9,
   "metadata": {},
   "outputs": [
    {
     "data": {
      "text/plain": [
       "(521,)"
      ]
     },
     "execution_count": 9,
     "metadata": {},
     "output_type": "execute_result"
    }
   ],
   "source": [
    "# to get the wind score prediction of a 5-second long interval, we take the average of the scores of the corresponding subsegments\n",
    "idxs = get_frames_from_interval(0, 5, W_LEN_SEC, HOP_SEC)\n",
    "pred_score_interval = out_scores[idxs].mean(axis=0)\n",
    "\n",
    "# one value for each class\n",
    "pred_score_interval.shape"
   ]
  },
  {
   "cell_type": "code",
   "execution_count": 10,
   "metadata": {},
   "outputs": [
    {
     "data": {
      "text/plain": [
       "0.04398567"
      ]
     },
     "execution_count": 10,
     "metadata": {},
     "output_type": "execute_result"
    }
   ],
   "source": [
    "# the wind score is the maximum of the scores of the wind-related classes\n",
    "wind_score = pred_score_interval[wind_classes_idx].max()\n",
    "wind_score"
   ]
  },
  {
   "cell_type": "markdown",
   "metadata": {},
   "source": [
    "### Compare the predictions with the annotations"
   ]
  },
  {
   "cell_type": "code",
   "execution_count": 11,
   "metadata": {},
   "outputs": [
    {
     "data": {
      "text/html": [
       "<div>\n",
       "<style scoped>\n",
       "    .dataframe tbody tr th:only-of-type {\n",
       "        vertical-align: middle;\n",
       "    }\n",
       "\n",
       "    .dataframe tbody tr th {\n",
       "        vertical-align: top;\n",
       "    }\n",
       "\n",
       "    .dataframe thead th {\n",
       "        text-align: right;\n",
       "    }\n",
       "</style>\n",
       "<table border=\"1\" class=\"dataframe\">\n",
       "  <thead>\n",
       "    <tr style=\"text-align: right;\">\n",
       "      <th></th>\n",
       "      <th>file_name</th>\n",
       "      <th>segment_start_s</th>\n",
       "      <th>wind</th>\n",
       "      <th>wind_strength</th>\n",
       "      <th>animal_sound</th>\n",
       "      <th>penguin_sound_type</th>\n",
       "      <th>rain</th>\n",
       "    </tr>\n",
       "  </thead>\n",
       "  <tbody>\n",
       "    <tr>\n",
       "      <th>0</th>\n",
       "      <td>STP01_20230315_200002_cut.wav</td>\n",
       "      <td>0.0</td>\n",
       "      <td>0</td>\n",
       "      <td>absent</td>\n",
       "      <td>0</td>\n",
       "      <td>absent</td>\n",
       "      <td>0</td>\n",
       "    </tr>\n",
       "    <tr>\n",
       "      <th>1</th>\n",
       "      <td>STP01_20230315_200002_cut.wav</td>\n",
       "      <td>5.0</td>\n",
       "      <td>0</td>\n",
       "      <td>absent</td>\n",
       "      <td>0</td>\n",
       "      <td>absent</td>\n",
       "      <td>0</td>\n",
       "    </tr>\n",
       "    <tr>\n",
       "      <th>2</th>\n",
       "      <td>STP01_20230315_200002_cut.wav</td>\n",
       "      <td>10.0</td>\n",
       "      <td>0</td>\n",
       "      <td>absent</td>\n",
       "      <td>0</td>\n",
       "      <td>absent</td>\n",
       "      <td>0</td>\n",
       "    </tr>\n",
       "    <tr>\n",
       "      <th>3</th>\n",
       "      <td>STP01_20230315_200002_cut.wav</td>\n",
       "      <td>15.0</td>\n",
       "      <td>0</td>\n",
       "      <td>absent</td>\n",
       "      <td>0</td>\n",
       "      <td>absent</td>\n",
       "      <td>0</td>\n",
       "    </tr>\n",
       "    <tr>\n",
       "      <th>4</th>\n",
       "      <td>STP01_20230315_200002_cut.wav</td>\n",
       "      <td>20.0</td>\n",
       "      <td>1</td>\n",
       "      <td>low</td>\n",
       "      <td>0</td>\n",
       "      <td>absent</td>\n",
       "      <td>0</td>\n",
       "    </tr>\n",
       "  </tbody>\n",
       "</table>\n",
       "</div>"
      ],
      "text/plain": [
       "                       file_name  segment_start_s  wind wind_strength  \\\n",
       "0  STP01_20230315_200002_cut.wav              0.0     0        absent   \n",
       "1  STP01_20230315_200002_cut.wav              5.0     0        absent   \n",
       "2  STP01_20230315_200002_cut.wav             10.0     0        absent   \n",
       "3  STP01_20230315_200002_cut.wav             15.0     0        absent   \n",
       "4  STP01_20230315_200002_cut.wav             20.0     1           low   \n",
       "\n",
       "   animal_sound penguin_sound_type  rain  \n",
       "0             0             absent     0  \n",
       "1             0             absent     0  \n",
       "2             0             absent     0  \n",
       "3             0             absent     0  \n",
       "4             0             absent     0  "
      ]
     },
     "execution_count": 11,
     "metadata": {},
     "output_type": "execute_result"
    }
   ],
   "source": [
    "# read the annotation file\n",
    "annotations_df = pd.read_csv(\"../data/annotation_5sec/annotations_test_audio_files.csv\")\n",
    "annotations_df.head()"
   ]
  },
  {
   "cell_type": "code",
   "execution_count": 12,
   "metadata": {},
   "outputs": [
    {
     "data": {
      "text/html": [
       "<div>\n",
       "<style scoped>\n",
       "    .dataframe tbody tr th:only-of-type {\n",
       "        vertical-align: middle;\n",
       "    }\n",
       "\n",
       "    .dataframe tbody tr th {\n",
       "        vertical-align: top;\n",
       "    }\n",
       "\n",
       "    .dataframe thead th {\n",
       "        text-align: right;\n",
       "    }\n",
       "</style>\n",
       "<table border=\"1\" class=\"dataframe\">\n",
       "  <thead>\n",
       "    <tr style=\"text-align: right;\">\n",
       "      <th></th>\n",
       "      <th>file_name</th>\n",
       "      <th>segment_start_s</th>\n",
       "      <th>wind</th>\n",
       "      <th>wind_strength</th>\n",
       "      <th>animal_sound</th>\n",
       "      <th>penguin_sound_type</th>\n",
       "      <th>rain</th>\n",
       "      <th>wind_score</th>\n",
       "    </tr>\n",
       "  </thead>\n",
       "  <tbody>\n",
       "    <tr>\n",
       "      <th>0</th>\n",
       "      <td>STP01_20230315_200002_cut.wav</td>\n",
       "      <td>0.0</td>\n",
       "      <td>0</td>\n",
       "      <td>absent</td>\n",
       "      <td>0</td>\n",
       "      <td>absent</td>\n",
       "      <td>0</td>\n",
       "      <td>0.043986</td>\n",
       "    </tr>\n",
       "    <tr>\n",
       "      <th>1</th>\n",
       "      <td>STP01_20230315_200002_cut.wav</td>\n",
       "      <td>5.0</td>\n",
       "      <td>0</td>\n",
       "      <td>absent</td>\n",
       "      <td>0</td>\n",
       "      <td>absent</td>\n",
       "      <td>0</td>\n",
       "      <td>0.068171</td>\n",
       "    </tr>\n",
       "    <tr>\n",
       "      <th>2</th>\n",
       "      <td>STP01_20230315_200002_cut.wav</td>\n",
       "      <td>10.0</td>\n",
       "      <td>0</td>\n",
       "      <td>absent</td>\n",
       "      <td>0</td>\n",
       "      <td>absent</td>\n",
       "      <td>0</td>\n",
       "      <td>0.042841</td>\n",
       "    </tr>\n",
       "    <tr>\n",
       "      <th>3</th>\n",
       "      <td>STP01_20230315_200002_cut.wav</td>\n",
       "      <td>15.0</td>\n",
       "      <td>0</td>\n",
       "      <td>absent</td>\n",
       "      <td>0</td>\n",
       "      <td>absent</td>\n",
       "      <td>0</td>\n",
       "      <td>0.062107</td>\n",
       "    </tr>\n",
       "    <tr>\n",
       "      <th>4</th>\n",
       "      <td>STP01_20230315_200002_cut.wav</td>\n",
       "      <td>20.0</td>\n",
       "      <td>1</td>\n",
       "      <td>low</td>\n",
       "      <td>0</td>\n",
       "      <td>absent</td>\n",
       "      <td>0</td>\n",
       "      <td>0.094659</td>\n",
       "    </tr>\n",
       "  </tbody>\n",
       "</table>\n",
       "</div>"
      ],
      "text/plain": [
       "                       file_name  segment_start_s  wind wind_strength  \\\n",
       "0  STP01_20230315_200002_cut.wav              0.0     0        absent   \n",
       "1  STP01_20230315_200002_cut.wav              5.0     0        absent   \n",
       "2  STP01_20230315_200002_cut.wav             10.0     0        absent   \n",
       "3  STP01_20230315_200002_cut.wav             15.0     0        absent   \n",
       "4  STP01_20230315_200002_cut.wav             20.0     1           low   \n",
       "\n",
       "   animal_sound penguin_sound_type  rain  wind_score  \n",
       "0             0             absent     0    0.043986  \n",
       "1             0             absent     0    0.068171  \n",
       "2             0             absent     0    0.042841  \n",
       "3             0             absent     0    0.062107  \n",
       "4             0             absent     0    0.094659  "
      ]
     },
     "execution_count": 12,
     "metadata": {},
     "output_type": "execute_result"
    }
   ],
   "source": [
    "# get the wind scores for all the 5-second long intervals\n",
    "\n",
    "wind_scores_df = []\n",
    "for file in pred_scores_file:\n",
    "\n",
    "    # read the prediction scores\n",
    "    meta = json.load(open(os.path.join(OUTPUT_DIR, 'metadata', pred_scores_file[0].replace('.npz', '.json'))))\n",
    "    out_scores = sparse.load_npz(os.path.join(OUTPUT_DIR, 'scores', pred_scores_file[0]))\n",
    "    out_scores = out_scores.toarray()\n",
    "\n",
    "    # get the wind scores for all the 5-second long intervals\n",
    "    for i in range(0, int(meta['duration']), 5):\n",
    "        idxs = get_frames_from_interval(i, i + 5, W_LEN_SEC, HOP_SEC)\n",
    "        \n",
    "        if idxs[-1] >= out_scores.shape[0]:\n",
    "            # adjust the indexes if out of range\n",
    "            idxs = [idx for idx in idxs if idx < out_scores.shape[0]]\n",
    "\n",
    "        pred_score_interval = out_scores[idxs].mean(axis=0)\n",
    "        wind_score = pred_score_interval[wind_classes_idx].max()\n",
    "\n",
    "        wind_scores_df.append({\n",
    "            'file_name': file.replace('.npz', '.wav'),\n",
    "            'segment_start_s': i,\n",
    "            'wind_score': wind_score\n",
    "        })\n",
    "    \n",
    "wind_scores_df = pd.DataFrame(wind_scores_df)\n",
    "\n",
    "# merge the wind scores with the annotations\n",
    "annotations_df = pd.merge(annotations_df, wind_scores_df, on=['file_name', 'segment_start_s'], how='left')\n",
    "annotations_df.head()"
   ]
  },
  {
   "cell_type": "code",
   "execution_count": 13,
   "metadata": {},
   "outputs": [
    {
     "data": {
      "text/plain": [
       "<Axes: xlabel='wind', ylabel='wind_score'>"
      ]
     },
     "execution_count": 13,
     "metadata": {},
     "output_type": "execute_result"
    },
    {
     "data": {
      "image/png": "[encoded data removed]",
      "text/plain": [
       "<Figure size 640x480 with 1 Axes>"
      ]
     },
     "metadata": {},
     "output_type": "display_data"
    }
   ],
   "source": [
    "# show the distribution of wind scores for the wind and non-wind segments\n",
    "sns.violinplot(data=annotations_df, x='wind', y='wind_score')"
   ]
  },
  {
   "cell_type": "code",
   "execution_count": null,
   "metadata": {},
   "outputs": [],
   "source": []
  }
 ],
 "metadata": {
  "kernelspec": {
   "display_name": "wind-noise-detection",
   "language": "python",
   "name": "python3"
  },
  "language_info": {
   "codemirror_mode": {
    "name": "ipython",
    "version": 3
   },
   "file_extension": ".py",
   "mimetype": "text/x-python",
   "name": "python",
   "nbconvert_exporter": "python",
   "pygments_lexer": "ipython3",
   "version": "3.11.3"
  }
 },
 "nbformat": 4,
 "nbformat_minor": 2
}
